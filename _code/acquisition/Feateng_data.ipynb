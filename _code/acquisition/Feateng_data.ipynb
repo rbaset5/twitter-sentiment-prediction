{
 "cells": [
  {
   "cell_type": "markdown",
   "metadata": {},
   "source": [
    "<h2 align=center> Feature Engineering </h2>\n",
    "\n",
    "---"
   ]
  },
  {
   "cell_type": "markdown",
   "metadata": {},
   "source": [
    "### Importing libraries"
   ]
  },
  {
   "cell_type": "code",
   "execution_count": 2,
   "outputs": [],
   "source": [
    "import pandas as pd\n",
    "import numpy as np\n",
    "import pickle\n",
    "import nltk\n",
    "from sklearn.model_selection import train_test_split\n",
    "\n",
    "import re\n",
    "import numpy as np\n",
    "import pandas as pd\n",
    "from nltk.tokenize import word_tokenize\n",
    "from nltk.stem import WordNetLemmatizer\n",
    "\n",
    "from sklearn.metrics import confusion_matrix\n",
    "from sklearn.model_selection import GridSearchCV\n",
    "from sklearn.ensemble import RandomForestClassifier\n",
    "from sklearn.model_selection import train_test_split\n",
    "from sklearn.pipeline import Pipeline, FeatureUnion\n",
    "from sklearn.base import BaseEstimator\n",
    "from sklearn.base import TransformerMixin\n",
    "from sklearn.feature_extraction.text import CountVectorizer, TfidfTransformer\n"
   ],
   "metadata": {
    "collapsed": false,
    "pycharm": {
     "name": "#%%\n"
    }
   }
  },
  {
   "cell_type": "markdown",
   "metadata": {},
   "source": [
    "### Importing Processed Data"
   ]
  },
  {
   "cell_type": "code",
   "execution_count": 3,
   "outputs": [
    {
     "output_type": "execute_result",
     "data": {
      "text/plain": "Index(['airline_sentiment', 'airline', 'tokens', 'positive', 'text',\n       'negativereason'],\n      dtype='object')"
     },
     "metadata": {},
     "execution_count": 3
    }
   ],
   "source": [
    "df = pd.read_csv('/Users/rashidbaset/Code/cap_project/_data/processed/text_processed.csv', encoding='latin-1')\n",
    "\n",
    "df.columns"
   ],
   "metadata": {
    "collapsed": false,
    "pycharm": {
     "name": "#%%\n"
    }
   }
  },
  {
   "cell_type": "markdown",
   "metadata": {},
   "source": [
    "### Declaring X and y"
   ]
  },
  {
   "cell_type": "code",
   "execution_count": 13,
   "metadata": {},
   "outputs": [],
   "source": [
    "y = pd.DataFrame(df['positive'])\n",
    "X = df.drop(columns=['positive'])"
   ]
  },
  {
   "cell_type": "markdown",
   "metadata": {},
   "source": [
    "### Train/test split"
   ]
  },
  {
   "cell_type": "markdown",
   "metadata": {},
   "source": [
    "Creating train and test sets for EDA."
   ]
  },
  {
   "cell_type": "code",
   "execution_count": 14,
   "metadata": {},
   "outputs": [],
   "source": [
    "train_set, test_set = train_test_split(df, test_size=0.2, random_state=42, stratify=df['positive'])"
   ]
  },
  {
   "cell_type": "markdown",
   "metadata": {},
   "source": [
    "Creating X and y train and test sets for modeling."
   ]
  },
  {
   "cell_type": "code",
   "execution_count": 15,
   "metadata": {},
   "outputs": [],
   "source": [
    "X_train, X_test, y_train, y_test = train_test_split(X, \n",
    "                                                    y, \n",
    "                                                    test_size = 0.3, \n",
    "                                                    stratify = y, \n",
    "                                                    random_state = 3)"
   ]
  },
  {
   "cell_type": "markdown",
   "metadata": {},
   "source": [
    "### Saving"
   ]
  },
  {
   "cell_type": "code",
   "execution_count": null,
   "metadata": {},
   "outputs": [],
   "source": [
    "# Saving train and test sets\n",
    "train_set.to_csv('/Users/rashidbaset/Code/cap_project/_data/processed/train_set.csv', index=False)\n",
    "test_set.to_csv('/Users/rashidbaset/Code/cap_project/_data/processed/test_set.csv', index=False)\n",
    "\n",
    "#X_train.to_csv('/Users/rashidbaset/Code/cap_project/_data/processed/X_train.csv', index=False)\n",
    "#X_test.to_csv('/Users/rashidbaset/Code/cap_project/_data/processed/X_test.csv', index=False)\n",
    "#y_train.to_csv('/Users/rashidbaset/Code/cap_project/_data/processed/y_train.csv', index=False)"
   ]
  },
  {
   "cell_type": "markdown",
   "metadata": {},
   "source": [
    "#### Bag-of-words (counts)"
   ]
  },
  {
   "cell_type": "code",
   "execution_count": 24,
   "metadata": {},
   "outputs": [],
   "source": [
    "### CountVectorizer\n",
    "cv = CountVectorizer()\n",
    "\n",
    "cv_train_features = cv.fit_transform(X_train.tokens)\n",
    "cv_test_features = cv.transform(X_test)"
   ]
  },
  {
   "cell_type": "code",
   "execution_count": 39,
   "metadata": {},
   "outputs": [],
   "source": [
    "# Saving transformed cv\n",
    "pickle.dump(cv_train_features, open(\"/Users/rashidbaset/Code/cap_project/_data/processed/cv_train.p\", \"wb\"))\n",
    "pickle.dump(cv_test_features, open(\"/Users/rashidbaset/Code/cap_project/_data/processed/cv_test.p\", \"wb\"))"
   ]
  },
  {
   "cell_type": "markdown",
   "metadata": {},
   "source": [
    "#### TFIDF "
   ]
  },
  {
   "cell_type": "markdown",
   "metadata": {},
   "source": [
    "In the term frequency-inverse document frequency (tf-idf) approach, we scale the counts according to how common a token is. The feature associated with token that appears is nearly every document will be scaled down, while a feature associated with a token."
   ]
  },
  {
   "cell_type": "code",
   "execution_count": 36,
   "metadata": {},
   "outputs": [],
   "source": [
    "# Defining stopword list\n",
    "stopwords_list = nltk.corpus.stopwords.words('english')\n",
    "\n",
    "### TfidfVevtorizer\n",
    "tv = TfidfVectorizer(stop_words=stopwords_list)\n",
    "\n",
    "tv_train = tv.fit_transform(X_train.tokens)\n",
    "\n",
    "tv_train = tv.transform(X_train.tokens)\n",
    "tv_test = tv.transform(X_test)\n",
    "\n",
    "tv_train_features = tv1.get_feature_names()\n",
    "#tfidf1_df = pd.DataFrame(tv_train_features.toarray())\n"
   ]
  },
  {
   "cell_type": "code",
   "execution_count": 37,
   "metadata": {},
   "outputs": [],
   "source": [
    "# Saving Transformed TFIDF\n",
    "pickle.dump(tv_train, open(\"/Users/rashidbaset/Code/cap_project/_data/processed/tv_train.p\", \"wb\"))\n",
    "pickle.dump(tv_test, open(\"/Users/rashidbaset/Code/cap_project/_data/processed/tv_test.p\", \"wb\"))"
   ]
  }
 ],
 "metadata": {
  "kernelspec": {
   "display_name": "Python 3",
   "language": "python",
   "name": "python3"
  },
  "language_info": {
   "codemirror_mode": {
    "name": "ipython",
    "version": 3
   },
   "file_extension": ".py",
   "mimetype": "text/x-python",
   "name": "python",
   "nbconvert_exporter": "python",
   "pygments_lexer": "ipython3",
   "version": "3.7.6-final"
  },
  "toc": {
   "base_numbering": 1,
   "nav_menu": {},
   "number_sections": true,
   "sideBar": true,
   "skip_h1_title": false,
   "title_cell": "Table of Contents",
   "title_sidebar": "Contents",
   "toc_cell": false,
   "toc_position": {},
   "toc_section_display": true,
   "toc_window_display": false
  }
 },
 "nbformat": 4,
 "nbformat_minor": 4
}